{
 "cells": [
  {
   "cell_type": "markdown",
   "metadata": {},
   "source": [
    "# Challenge - Tweetons !\n",
    "\n",
    "Nous allons effectuer les mêmes missions que dans la quête précédente, afin de comparer les deux méthodes (TfIdf Vectorizer et CountVectorizer). Pour rappel, les missions étaient les suivantes :\n",
    "\n",
    "1. Importe **cet ensemble de données** de tweets dans un DataFrame.\n",
    "\n",
    "2. Ne garde que les tweets positifs et négatifs (tu excluras donc les `neutral`). Quel est le pourcentage de tweets positifs/négatifs ?\n",
    "\n",
    "3. Copie la colonne `text` dans une **Série** `X`, et la colonne `sentiment` dans une **Série** `y`. Applique un train test split avec le `random_state = 32`.\n",
    "\n",
    "4. Crée un modèle `vectorizer` avec scikit-learn en utilisant la méthode `TfidfVectorizer`. Entraîne ton modèle sur `X_train`, puis crée une matrice de *features* `X_train_CV`. Crée la matrice `X_test_CV` sans ré-entraîner le modèle. Le format de la matrice `X_test_CV` doit être `4091x15806` avec `44633 stored elements`.\n",
    "\n",
    "5. Entraîne maintenant une régression logistique avec les paramètres par défaut. Tu devrais obtenir les résultats suivants : `0.932` pour le test d'entraînement, et `0.873` pour l'ensemble de test."
   ]
  },
  {
   "cell_type": "code",
   "execution_count": 2,
   "metadata": {},
   "outputs": [
    {
     "data": {
      "text/html": [
       "<div>\n",
       "<style scoped>\n",
       "    .dataframe tbody tr th:only-of-type {\n",
       "        vertical-align: middle;\n",
       "    }\n",
       "\n",
       "    .dataframe tbody tr th {\n",
       "        vertical-align: top;\n",
       "    }\n",
       "\n",
       "    .dataframe thead th {\n",
       "        text-align: right;\n",
       "    }\n",
       "</style>\n",
       "<table border=\"1\" class=\"dataframe\">\n",
       "  <thead>\n",
       "    <tr style=\"text-align: right;\">\n",
       "      <th></th>\n",
       "      <th>textID</th>\n",
       "      <th>text</th>\n",
       "      <th>selected_text</th>\n",
       "      <th>sentiment</th>\n",
       "    </tr>\n",
       "  </thead>\n",
       "  <tbody>\n",
       "    <tr>\n",
       "      <th>0</th>\n",
       "      <td>cb774db0d1</td>\n",
       "      <td>I`d have responded, if I were going</td>\n",
       "      <td>I`d have responded, if I were going</td>\n",
       "      <td>neutral</td>\n",
       "    </tr>\n",
       "    <tr>\n",
       "      <th>1</th>\n",
       "      <td>549e992a42</td>\n",
       "      <td>Sooo SAD I will miss you here in San Diego!!!</td>\n",
       "      <td>Sooo SAD</td>\n",
       "      <td>negative</td>\n",
       "    </tr>\n",
       "    <tr>\n",
       "      <th>2</th>\n",
       "      <td>088c60f138</td>\n",
       "      <td>my boss is bullying me...</td>\n",
       "      <td>bullying me</td>\n",
       "      <td>negative</td>\n",
       "    </tr>\n",
       "    <tr>\n",
       "      <th>3</th>\n",
       "      <td>9642c003ef</td>\n",
       "      <td>what interview! leave me alone</td>\n",
       "      <td>leave me alone</td>\n",
       "      <td>negative</td>\n",
       "    </tr>\n",
       "    <tr>\n",
       "      <th>4</th>\n",
       "      <td>358bd9e861</td>\n",
       "      <td>Sons of ****, why couldn`t they put them on t...</td>\n",
       "      <td>Sons of ****,</td>\n",
       "      <td>negative</td>\n",
       "    </tr>\n",
       "  </tbody>\n",
       "</table>\n",
       "</div>"
      ],
      "text/plain": [
       "       textID                                               text  \\\n",
       "0  cb774db0d1                I`d have responded, if I were going   \n",
       "1  549e992a42      Sooo SAD I will miss you here in San Diego!!!   \n",
       "2  088c60f138                          my boss is bullying me...   \n",
       "3  9642c003ef                     what interview! leave me alone   \n",
       "4  358bd9e861   Sons of ****, why couldn`t they put them on t...   \n",
       "\n",
       "                         selected_text sentiment  \n",
       "0  I`d have responded, if I were going   neutral  \n",
       "1                             Sooo SAD  negative  \n",
       "2                          bullying me  negative  \n",
       "3                       leave me alone  negative  \n",
       "4                        Sons of ****,  negative  "
      ]
     },
     "execution_count": 2,
     "metadata": {},
     "output_type": "execute_result"
    }
   ],
   "source": [
    "import pandas as pd\n",
    "df = pd.read_csv('data/train.csv')\n",
    "df.head()"
   ]
  },
  {
   "cell_type": "code",
   "execution_count": 3,
   "metadata": {},
   "outputs": [
    {
     "name": "stdout",
     "output_type": "stream",
     "text": [
      "Pourcentage de tweets positifs : 52.44759518425717 %\n",
      "Pourcentage de tweets négatifs : 47.55240481574283 %\n"
     ]
    }
   ],
   "source": [
    "df_filtered = df[df['sentiment'].isin(['positive', 'negative'])]\n",
    "positive_percentage = (df_filtered['sentiment'] == 'positive').mean() * 100\n",
    "negative_percentage = (df_filtered['sentiment'] == 'negative').mean() * 100\n",
    "\n",
    "print(\"Pourcentage de tweets positifs :\",positive_percentage, \"%\")\n",
    "print(\"Pourcentage de tweets négatifs :\",negative_percentage, \"%\")\n"
   ]
  },
  {
   "cell_type": "code",
   "execution_count": 4,
   "metadata": {},
   "outputs": [],
   "source": [
    "from sklearn.model_selection import train_test_split\n",
    "\n",
    "X = df_filtered['text']\n",
    "y = df_filtered['sentiment']\n",
    "X_train, X_test, y_train, y_test = train_test_split(X, y, train_size=0.75, random_state=32)"
   ]
  },
  {
   "cell_type": "code",
   "execution_count": 6,
   "metadata": {},
   "outputs": [
    {
     "name": "stdout",
     "output_type": "stream",
     "text": [
      "Forme de X_train_CV : (12272, 15806)\n",
      "Nombre d'éléments stockés dans X_train_CV: 144578\n",
      "--------------\n",
      "Forme de X_test_CV : (4091, 15806)\n",
      "Nombre d'éléments stockés dans X_test_CV: 44633\n"
     ]
    }
   ],
   "source": [
    "from sklearn.feature_extraction.text import TfidfVectorizer\n",
    "\n",
    "vectorizer = TfidfVectorizer()\n",
    "X_train_CV = vectorizer.fit_transform(X_train)\n",
    "X_test_CV = vectorizer.transform(X_test)\n",
    "\n",
    "\n",
    "print(f\"Forme de X_train_CV : {X_train_CV.shape}\")\n",
    "print(f\"Nombre d'éléments stockés dans X_train_CV: {X_train_CV.nnz}\")\n",
    "print(\"--------------\")\n",
    "print(f\"Forme de X_test_CV : {X_test_CV.shape}\")\n",
    "print(f\"Nombre d'éléments stockés dans X_test_CV: {X_test_CV.nnz}\")"
   ]
  },
  {
   "cell_type": "code",
   "execution_count": 7,
   "metadata": {},
   "outputs": [
    {
     "name": "stdout",
     "output_type": "stream",
     "text": [
      "Exactitude sur l'ensemble d'entraînement : 0.931\n",
      "Exactitude sur l'ensemble de test : 0.873\n"
     ]
    }
   ],
   "source": [
    "from sklearn.linear_model import LogisticRegression\n",
    "from sklearn.metrics import accuracy_score\n",
    "\n",
    "model = LogisticRegression(max_iter=1000)\n",
    "model.fit(X_train_CV, y_train)\n",
    "y_train_pred = model.predict(X_train_CV)\n",
    "y_test_pred = model.predict(X_test_CV)\n",
    "train_accuracy = accuracy_score(y_train, y_train_pred)\n",
    "test_accuracy = accuracy_score(y_test, y_test_pred)\n",
    "\n",
    "print(f\"Exactitude sur l'ensemble d'entraînement : {train_accuracy:.3f}\")\n",
    "print(f\"Exactitude sur l'ensemble de test : {test_accuracy:.3f}\")\n"
   ]
  },
  {
   "cell_type": "code",
   "execution_count": 8,
   "metadata": {},
   "outputs": [
    {
     "name": "stdout",
     "output_type": "stream",
     "text": [
      "Tweets mal classifiés :\n",
      "\n",
      "Tweet : HollowbabesHere comes the utter shite #bgt <I completely agree\n",
      "Prédiction : Positif\n",
      "Réel : Négatif\n",
      "\n",
      "Tweet :  SUFFICATION NO BREATHING. It`s okay. There`ll be more. You`re invited to mine, but I can`t promise fun times.  *Jinx\n",
      "Prédiction : Positif\n",
      "Réel : Négatif\n",
      "\n",
      "Tweet : i wanna vote for Miley Cyrus for the mtv movie awards..but i don`t know where i could  somebody could send me a link? thaank you <3\n",
      "Prédiction : Négatif\n",
      "Réel : Positif\n",
      "\n",
      "Tweet : I love music so much that i`ve gone through pain to play :S my sides of my fingers now are peeling and have blisters from playing so much\n",
      "Prédiction : Positif\n",
      "Réel : Négatif\n",
      "\n",
      "Tweet : I can only message those who message me, if we`re fwends...so those that want replies..follow me.  hmm..that sounds funny..\n",
      "Prédiction : Négatif\n",
      "Réel : Positif\n",
      "\n",
      "Tweet : wish I could feel no pain (8)  but it`s ok, at least they like Brazil!\n",
      "Prédiction : Négatif\n",
      "Réel : Positif\n",
      "\n",
      "Tweet :  so glad i`m not at uni anymore\n",
      "Prédiction : Négatif\n",
      "Réel : Positif\n",
      "\n",
      "Tweet :  You`re not here. I hope you`re still resting.  I don`t want you to be stressed.\n",
      "Prédiction : Négatif\n",
      "Réel : Positif\n",
      "\n",
      "Tweet :   you`re missing out, bb! i`m such a cereal nut, i think i like every kind available.\n",
      "Prédiction : Négatif\n",
      "Réel : Positif\n",
      "\n",
      "Tweet :  have an amazing time with your mommas tomorrow! Show them how much they mean to you  Whatever you do they will love it\n",
      "Prédiction : Positif\n",
      "Réel : Négatif\n"
     ]
    }
   ],
   "source": [
    "errors = (y_test != y_test_pred)\n",
    "incorrect_indices = y_test[errors].index\n",
    "incorrect_tweets = X_test[errors]\n",
    "\n",
    "print(\"Tweets mal classifiés :\")\n",
    "for i in range(min(10, len(incorrect_tweets))):\n",
    "    tweet = incorrect_tweets.iloc[i]\n",
    "    idx = incorrect_indices[i]\n",
    "    \n",
    "    real_sentiment = y_test.loc[idx]\n",
    "    predicted_sentiment = y_test_pred[y_test.index.get_loc(idx)]\n",
    "    \n",
    "    # Affiche le tweet, la prédiction et la classe réelle\n",
    "    print(f\"\\nTweet : {tweet}\")\n",
    "    print(f\"Prédiction : {'Positif' if predicted_sentiment == 'positive' else 'Négatif'}\")\n",
    "    print(f\"Réel : {'Positif' if real_sentiment == 'positive' else 'Négatif'}\")\n"
   ]
  }
 ],
 "metadata": {
  "kernelspec": {
   "display_name": "Python (wild_nlp_env)",
   "language": "python",
   "name": "wild_nlp_env"
  }
 },
 "nbformat": 4,
 "nbformat_minor": 2
}
