{
  "nbformat": 4,
  "nbformat_minor": 0,
  "metadata": {
    "colab": {
      "provenance": [],
      "gpuType": "T4"
    },
    "kernelspec": {
      "name": "python3",
      "display_name": "Python 3"
    },
    "language_info": {
      "name": "python"
    },
    "accelerator": "GPU"
  },
  "cells": [
    {
      "cell_type": "markdown",
      "source": [
        " 1. Installer les dépendances"
      ],
      "metadata": {
        "id": "HmnT0FhiUl8b"
      }
    },
    {
      "cell_type": "code",
      "execution_count": null,
      "metadata": {
        "colab": {
          "base_uri": "https://localhost:8080/"
        },
        "id": "CJJvfCt9UQEs",
        "outputId": "ca83239f-ebe6-455e-819e-e106c88aae6c"
      },
      "outputs": [
        {
          "output_type": "stream",
          "name": "stdout",
          "text": [
            "W: Skipping acquire of configured file 'main/source/Sources' as repository 'https://r2u.stat.illinois.edu/ubuntu jammy InRelease' does not seem to provide it (sources.list entry misspelt?)\n",
            "\u001b[33mWARNING: gymnasium 1.1.1 does not provide the extra 'accept-rom-license'\u001b[0m\u001b[33m\n",
            "\u001b[0mVirtual display started successfully!\n"
          ]
        }
      ],
      "source": [
        "# Install Stable-Baselines3, Gymnasium, and Atari dependencies\n",
        "!apt-get update -qq\n",
        "!apt-get install -y xvfb swig cmake ffmpeg > /dev/null 2>&1\n",
        "!pip install stable-baselines3[extra] gymnasium[atari,accept-rom-license] ale-py pyvirtualdisplay -q\n",
        "\n",
        "# Set up a virtual display (needed for rendering in Colab)\n",
        "from pyvirtualdisplay import Display\n",
        "import os\n",
        "\n",
        "os.system(\"Xvfb :1 -screen 0 1400x900x24 &\")  # Manually start Xvfb\n",
        "display = Display(visible=0, size=(1400, 900))\n",
        "display.start()\n",
        "\n",
        "print(\"Virtual display started successfully!\")"
      ]
    },
    {
      "cell_type": "markdown",
      "source": [
        "2. Importer des bibliothèques"
      ],
      "metadata": {
        "id": "vUwif8YCUpVj"
      }
    },
    {
      "cell_type": "code",
      "source": [
        "import gymnasium as gym\n",
        "import torch\n",
        "from stable_baselines3 import DQN\n",
        "from stable_baselines3.common.vec_env import DummyVecEnv\n",
        "from stable_baselines3.common.evaluation import evaluate_policy\n",
        "\n",
        "# Verify installation of Atari Learning Environment (ALE)\n",
        "import ale_py\n",
        "print(\"ALE-Py version:\", ale_py.__version__)"
      ],
      "metadata": {
        "colab": {
          "base_uri": "https://localhost:8080/"
        },
        "id": "xCFNKNHuUfIG",
        "outputId": "5c25a2a7-544c-43d2-aca9-dc5aa4a756b8"
      },
      "execution_count": null,
      "outputs": [
        {
          "output_type": "stream",
          "name": "stdout",
          "text": [
            "ALE-Py version: 0.11.0\n"
          ]
        }
      ]
    },
    {
      "cell_type": "markdown",
      "source": [
        "3. Créez l'environnement de Space Invaders"
      ],
      "metadata": {
        "id": "FHPV4Og_Utwl"
      }
    },
    {
      "cell_type": "code",
      "source": [
        "# Create the Space Invaders environment\n",
        "env = gym.make(\"ALE/SpaceInvaders-v5\", render_mode=\"rgb_array\")\n",
        "\n",
        "# Wrap it in a DummyVecEnv for Stable-Baselines3 compatibility\n",
        "env = DummyVecEnv([lambda: env])\n",
        "\n",
        "# Print action and observation space\n",
        "print(\"Action Space:\", env.action_space)\n",
        "print(\"Observation Space:\", env.observation_space)"
      ],
      "metadata": {
        "colab": {
          "base_uri": "https://localhost:8080/"
        },
        "id": "rrq6uIsxUw9U",
        "outputId": "73aee256-06a4-439a-a044-b7c1e4e44e0e"
      },
      "execution_count": null,
      "outputs": [
        {
          "output_type": "stream",
          "name": "stdout",
          "text": [
            "Action Space: Discrete(6)\n",
            "Observation Space: Box(0, 255, (210, 160, 3), uint8)\n"
          ]
        }
      ]
    },
    {
      "cell_type": "markdown",
      "source": [
        "4. Définir le modèle Deep Q-Network (DQN)"
      ],
      "metadata": {
        "id": "QTNy4WHYUxc-"
      }
    },
    {
      "cell_type": "code",
      "source": [
        "# Define the DQN model\n",
        "model = DQN(\n",
        "    \"CnnPolicy\",  # Use a Convolutional Neural Network (CNN) to process images\n",
        "    env,\n",
        "    learning_rate=1e-4,  # Learning rate\n",
        "    buffer_size=100000,  # Experience replay buffer size\n",
        "    batch_size=32,  # Mini-batch size\n",
        "    learning_starts=50000,  # Steps before training starts\n",
        "    target_update_interval=1000,  # Update target network every 1000 steps\n",
        "    train_freq=4,  # Update every 4 steps\n",
        "    gradient_steps=1,  # Gradient updates per step\n",
        "    exploration_fraction=0.1,  # Percentage of training used for exploration\n",
        "    exploration_final_eps=0.01,  # Minimum exploration rate\n",
        "    verbose=1,  # Print training logs\n",
        "    tensorboard_log=\"./dqn_space_invaders_logs/\"  # Tensorboard logging\n",
        ")\n",
        "\n",
        "# Print model summary\n",
        "print(model)"
      ],
      "metadata": {
        "colab": {
          "base_uri": "https://localhost:8080/"
        },
        "id": "7xTuEKG6U0k9",
        "outputId": "795d8b32-97fd-4896-de48-7a323fa2c9db"
      },
      "execution_count": null,
      "outputs": [
        {
          "output_type": "stream",
          "name": "stdout",
          "text": [
            "Using cuda device\n",
            "Wrapping the env in a VecTransposeImage.\n"
          ]
        },
        {
          "output_type": "stream",
          "name": "stderr",
          "text": [
            "/usr/local/lib/python3.11/dist-packages/stable_baselines3/common/buffers.py:242: UserWarning: This system does not have apparently enough memory to store the complete replay buffer 20.16GB > 12.01GB\n",
            "  warnings.warn(\n"
          ]
        },
        {
          "output_type": "stream",
          "name": "stdout",
          "text": [
            "<stable_baselines3.dqn.dqn.DQN object at 0x7b68f38754d0>\n"
          ]
        }
      ]
    },
    {
      "cell_type": "markdown",
      "source": [
        "5. Former l'agent 🎮"
      ],
      "metadata": {
        "id": "OCgd2ZTDU1Eu"
      }
    },
    {
      "cell_type": "code",
      "source": [
        "# Train the model for 1 million timesteps\n",
        "model.learn(total_timesteps=1_000_000)\n",
        "\n",
        "# Save the trained model\n",
        "model.save(\"dqn_space_invaders\")\n",
        "print(\"Model saved successfully!\")"
      ],
      "metadata": {
        "colab": {
          "base_uri": "https://localhost:8080/"
        },
        "id": "nVLjusL-U4k4",
        "outputId": "18bb2c31-7d8f-4a5c-f13c-e647c06992a5"
      },
      "execution_count": null,
      "outputs": [
        {
          "metadata": {
            "tags": null
          },
          "name": "stdout",
          "output_type": "stream",
          "text": [
            "Logging to ./dqn_space_invaders_logs/DQN_2\n",
            "----------------------------------\n",
            "| rollout/            |          |\n",
            "|    exploration_rate | 0.982    |\n",
            "| time/               |          |\n",
            "|    episodes         | 4        |\n",
            "|    fps              | 732      |\n",
            "|    time_elapsed     | 2        |\n",
            "|    total_timesteps  | 1782     |\n",
            "----------------------------------\n",
            "----------------------------------\n",
            "| rollout/            |          |\n",
            "|    exploration_rate | 0.952    |\n",
            "| time/               |          |\n",
            "|    episodes         | 8        |\n",
            "|    fps              | 871      |\n",
            "|    time_elapsed     | 5        |\n",
            "|    total_timesteps  | 4816     |\n",
            "----------------------------------\n",
            "----------------------------------\n",
            "| rollout/            |          |\n",
            "|    exploration_rate | 0.936    |\n",
            "| time/               |          |\n",
            "|    episodes         | 12       |\n",
            "|    fps              | 893      |\n",
            "|    time_elapsed     | 7        |\n",
            "|    total_timesteps  | 6461     |\n",
            "----------------------------------\n",
            "----------------------------------\n",
            "| rollout/            |          |\n",
            "|    exploration_rate | 0.918    |\n",
            "| time/               |          |\n",
            "|    episodes         | 16       |\n",
            "|    fps              | 908      |\n",
            "|    time_elapsed     | 9        |\n",
            "|    total_timesteps  | 8320     |\n",
            "----------------------------------\n",
            "----------------------------------\n",
            "| rollout/            |          |\n",
            "|    exploration_rate | 0.897    |\n",
            "| time/               |          |\n",
            "|    episodes         | 20       |\n",
            "|    fps              | 914      |\n",
            "|    time_elapsed     | 11       |\n",
            "|    total_timesteps  | 10433    |\n",
            "----------------------------------\n",
            "----------------------------------\n",
            "| rollout/            |          |\n",
            "|    exploration_rate | 0.872    |\n",
            "| time/               |          |\n",
            "|    episodes         | 24       |\n",
            "|    fps              | 875      |\n",
            "|    time_elapsed     | 14       |\n",
            "|    total_timesteps  | 12913    |\n",
            "----------------------------------\n",
            "----------------------------------\n",
            "| rollout/            |          |\n",
            "|    exploration_rate | 0.85     |\n",
            "| time/               |          |\n",
            "|    episodes         | 28       |\n",
            "|    fps              | 886      |\n",
            "|    time_elapsed     | 17       |\n",
            "|    total_timesteps  | 15142    |\n",
            "----------------------------------\n",
            "----------------------------------\n",
            "| rollout/            |          |\n",
            "|    exploration_rate | 0.836    |\n",
            "| time/               |          |\n",
            "|    episodes         | 32       |\n",
            "|    fps              | 892      |\n",
            "|    time_elapsed     | 18       |\n",
            "|    total_timesteps  | 16601    |\n",
            "----------------------------------\n",
            "----------------------------------\n",
            "| rollout/            |          |\n",
            "|    exploration_rate | 0.812    |\n",
            "| time/               |          |\n",
            "|    episodes         | 36       |\n",
            "|    fps              | 902      |\n",
            "|    time_elapsed     | 21       |\n",
            "|    total_timesteps  | 19034    |\n",
            "----------------------------------\n",
            "----------------------------------\n",
            "| rollout/            |          |\n",
            "|    exploration_rate | 0.793    |\n",
            "| time/               |          |\n",
            "|    episodes         | 40       |\n",
            "|    fps              | 907      |\n",
            "|    time_elapsed     | 22       |\n",
            "|    total_timesteps  | 20875    |\n",
            "----------------------------------\n",
            "----------------------------------\n",
            "| rollout/            |          |\n",
            "|    exploration_rate | 0.774    |\n",
            "| time/               |          |\n",
            "|    episodes         | 44       |\n",
            "|    fps              | 885      |\n",
            "|    time_elapsed     | 25       |\n",
            "|    total_timesteps  | 22830    |\n",
            "----------------------------------\n",
            "----------------------------------\n",
            "| rollout/            |          |\n",
            "|    exploration_rate | 0.753    |\n",
            "| time/               |          |\n",
            "|    episodes         | 48       |\n",
            "|    fps              | 889      |\n",
            "|    time_elapsed     | 28       |\n",
            "|    total_timesteps  | 24937    |\n",
            "----------------------------------\n",
            "----------------------------------\n",
            "| rollout/            |          |\n",
            "|    exploration_rate | 0.737    |\n",
            "| time/               |          |\n",
            "|    episodes         | 52       |\n",
            "|    fps              | 893      |\n",
            "|    time_elapsed     | 29       |\n",
            "|    total_timesteps  | 26598    |\n",
            "----------------------------------\n",
            "----------------------------------\n",
            "| rollout/            |          |\n",
            "|    exploration_rate | 0.721    |\n",
            "| time/               |          |\n",
            "|    episodes         | 56       |\n",
            "|    fps              | 896      |\n",
            "|    time_elapsed     | 31       |\n",
            "|    total_timesteps  | 28186    |\n",
            "----------------------------------\n",
            "----------------------------------\n",
            "| rollout/            |          |\n",
            "|    exploration_rate | 0.698    |\n",
            "| time/               |          |\n",
            "|    episodes         | 60       |\n",
            "|    fps              | 902      |\n",
            "|    time_elapsed     | 33       |\n",
            "|    total_timesteps  | 30474    |\n",
            "----------------------------------\n",
            "----------------------------------\n",
            "| rollout/            |          |\n",
            "|    exploration_rate | 0.682    |\n",
            "| time/               |          |\n",
            "|    episodes         | 64       |\n",
            "|    fps              | 904      |\n",
            "|    time_elapsed     | 35       |\n",
            "|    total_timesteps  | 32148    |\n",
            "----------------------------------\n",
            "----------------------------------\n",
            "| rollout/            |          |\n",
            "|    exploration_rate | 0.66     |\n",
            "| time/               |          |\n",
            "|    episodes         | 68       |\n",
            "|    fps              | 889      |\n",
            "|    time_elapsed     | 38       |\n",
            "|    total_timesteps  | 34367    |\n",
            "----------------------------------\n",
            "----------------------------------\n",
            "| rollout/            |          |\n",
            "|    exploration_rate | 0.641    |\n",
            "| time/               |          |\n",
            "|    episodes         | 72       |\n",
            "|    fps              | 893      |\n",
            "|    time_elapsed     | 40       |\n",
            "|    total_timesteps  | 36312    |\n",
            "----------------------------------\n",
            "----------------------------------\n",
            "| rollout/            |          |\n",
            "|    exploration_rate | 0.62     |\n",
            "| time/               |          |\n",
            "|    episodes         | 76       |\n",
            "|    fps              | 896      |\n",
            "|    time_elapsed     | 42       |\n",
            "|    total_timesteps  | 38344    |\n",
            "----------------------------------\n",
            "----------------------------------\n",
            "| rollout/            |          |\n",
            "|    exploration_rate | 0.601    |\n",
            "| time/               |          |\n",
            "|    episodes         | 80       |\n",
            "|    fps              | 899      |\n",
            "|    time_elapsed     | 44       |\n",
            "|    total_timesteps  | 40314    |\n",
            "----------------------------------\n",
            "----------------------------------\n",
            "| rollout/            |          |\n",
            "|    exploration_rate | 0.583    |\n",
            "| time/               |          |\n",
            "|    episodes         | 84       |\n",
            "|    fps              | 902      |\n",
            "|    time_elapsed     | 46       |\n",
            "|    total_timesteps  | 42171    |\n",
            "----------------------------------\n",
            "----------------------------------\n",
            "| rollout/            |          |\n",
            "|    exploration_rate | 0.562    |\n",
            "| time/               |          |\n",
            "|    episodes         | 88       |\n",
            "|    fps              | 897      |\n",
            "|    time_elapsed     | 49       |\n",
            "|    total_timesteps  | 44256    |\n",
            "----------------------------------\n",
            "----------------------------------\n",
            "| rollout/            |          |\n",
            "|    exploration_rate | 0.545    |\n",
            "| time/               |          |\n",
            "|    episodes         | 92       |\n",
            "|    fps              | 890      |\n",
            "|    time_elapsed     | 51       |\n",
            "|    total_timesteps  | 45960    |\n",
            "----------------------------------\n",
            "----------------------------------\n",
            "| rollout/            |          |\n",
            "|    exploration_rate | 0.526    |\n",
            "| time/               |          |\n",
            "|    episodes         | 96       |\n",
            "|    fps              | 890      |\n",
            "|    time_elapsed     | 53       |\n",
            "|    total_timesteps  | 47910    |\n",
            "----------------------------------\n",
            "----------------------------------\n",
            "| rollout/            |          |\n",
            "|    exploration_rate | 0.508    |\n",
            "| time/               |          |\n",
            "|    episodes         | 100      |\n",
            "|    fps              | 891      |\n",
            "|    time_elapsed     | 55       |\n",
            "|    total_timesteps  | 49714    |\n",
            "----------------------------------\n",
            "----------------------------------\n",
            "| rollout/            |          |\n",
            "|    exploration_rate | 0.482    |\n",
            "| time/               |          |\n",
            "|    episodes         | 104      |\n",
            "|    fps              | 755      |\n",
            "|    time_elapsed     | 69       |\n",
            "|    total_timesteps  | 52334    |\n",
            "| train/              |          |\n",
            "|    learning_rate    | 0.0001   |\n",
            "|    loss             | 0.00152  |\n",
            "|    n_updates        | 583      |\n",
            "----------------------------------\n"
          ]
        }
      ]
    },
    {
      "cell_type": "markdown",
      "source": [
        "6. Évaluer l'agent formé"
      ],
      "metadata": {
        "id": "gHZ5Gh6MU5-9"
      }
    },
    {
      "cell_type": "code",
      "source": [
        "# Load the trained model\n",
        "model = DQN.load(\"dqn_space_invaders\")\n",
        "\n",
        "# Evaluate the model for 10 episodes\n",
        "mean_reward, std_reward = evaluate_policy(model, env, n_eval_episodes=10, deterministic=True)\n",
        "\n",
        "# Print evaluation results\n",
        "print(f\"Mean reward: {mean_reward:.2f} ± {std_reward:.2f}\")"
      ],
      "metadata": {
        "id": "-4HXa6_1U8q_"
      },
      "execution_count": null,
      "outputs": []
    },
    {
      "cell_type": "markdown",
      "source": [
        "7. Regardez l'agent jouer ! 🎥"
      ],
      "metadata": {
        "id": "PUNUGOq8U9Do"
      }
    },
    {
      "cell_type": "code",
      "source": [
        "import numpy as np\n",
        "import matplotlib.pyplot as plt\n",
        "import os\n",
        "import glob\n",
        "import base64\n",
        "from IPython.display import HTML\n",
        "\n",
        "# Function to unwrap DummyVecEnv and record gameplay\n",
        "def record_video(env, model, video_length=500, video_folder=\"videos/\"):\n",
        "    env = env.envs[0]  # ✅ Unwrap the DummyVecEnv\n",
        "    env = gym.wrappers.RecordVideo(env, video_folder=video_folder, episode_trigger=lambda x: True)\n",
        "\n",
        "    obs, _ = env.reset()\n",
        "\n",
        "    for _ in range(video_length):\n",
        "        action, _ = model.predict(obs, deterministic=True)\n",
        "        obs, reward, terminated, truncated, _ = env.step(action)\n",
        "        if terminated or truncated:\n",
        "            break\n",
        "\n",
        "    env.close()\n",
        "    print(\"Video recorded successfully!\")\n",
        "\n",
        "# Function to display the recorded video\n",
        "def show_video(video_folder=\"videos/\"):\n",
        "    video_list = glob.glob(os.path.join(video_folder, \"*.mp4\"))\n",
        "    if len(video_list) == 0:\n",
        "        print(\"No videos found! Make sure the agent played at least one episode.\")\n",
        "        return\n",
        "\n",
        "    video_path = video_list[0]  # Get the first recorded video\n",
        "    mp4 = open(video_path, \"rb\").read()\n",
        "    data_url = \"data:video/mp4;base64,\" + base64.b64encode(mp4).decode()\n",
        "    return HTML(f'<video width=\"600\" height=\"400\" controls><source src=\"{data_url}\" type=\"video/mp4\"></video>')\n",
        "\n",
        "# ✅ Record the gameplay\n",
        "record_video(env, model)\n",
        "\n",
        "# ✅ Display the recorded video in Colab\n",
        "show_video()"
      ],
      "metadata": {
        "id": "3bPPCNUlU_-S"
      },
      "execution_count": null,
      "outputs": []
    }
  ]
}