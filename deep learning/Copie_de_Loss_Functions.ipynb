{
  "nbformat": 4,
  "nbformat_minor": 0,
  "metadata": {
    "colab": {
      "provenance": []
    },
    "kernelspec": {
      "name": "python3",
      "display_name": "Python 3"
    },
    "language_info": {
      "name": "python"
    }
  },
  "cells": [
    {
      "cell_type": "markdown",
      "source": [
        "# Evaluating our Prediction Models with Loss Functions\n",
        "The Titanic data frames describe the survival status of individual passengers on the Titanic.\n",
        "\n",
        "Source the data from the Kaggle repository here: https://www.kaggle.com/c/titanic/data\n",
        "\n",
        "Execute the tasks listed below:\n",
        "\n",
        "* Build 2 prediction models of your choice to compute the survival rates of passengers\n",
        "* Evaluate the quality of your predictions models using the relevant loss functions (use at least 2 loss functions)\n",
        "* Explain your thoughts on the obtained these results"
      ],
      "metadata": {
        "id": "nETqyDMTaq6A"
      }
    },
    {
      "cell_type": "code",
      "execution_count": 6,
      "metadata": {
        "id": "EYo6I8BpaoQ4",
        "colab": {
          "base_uri": "https://localhost:8080/"
        },
        "outputId": "e65a2a77-baf0-48e6-c53f-625585322dd8"
      },
      "outputs": [
        {
          "output_type": "stream",
          "name": "stderr",
          "text": [
            "/usr/local/lib/python3.11/dist-packages/sklearn/linear_model/_logistic.py:465: ConvergenceWarning: lbfgs failed to converge (status=1):\n",
            "STOP: TOTAL NO. OF ITERATIONS REACHED LIMIT.\n",
            "\n",
            "Increase the number of iterations (max_iter) or scale the data as shown in:\n",
            "    https://scikit-learn.org/stable/modules/preprocessing.html\n",
            "Please also refer to the documentation for alternative solver options:\n",
            "    https://scikit-learn.org/stable/modules/linear_model.html#logistic-regression\n",
            "  n_iter_i = _check_optimize_result(\n"
          ]
        },
        {
          "output_type": "stream",
          "name": "stdout",
          "text": [
            "=== Logistic Regression ===\n",
            "Accuracy: 0.7413\n",
            "Log Loss: 0.5009\n",
            "MSE: 0.1628\n",
            "\n",
            "=== Random Forest ===\n",
            "Accuracy: 0.7692\n",
            "Log Loss: 1.2033\n",
            "MSE: 0.1668\n"
          ]
        }
      ],
      "source": [
        "# 1. library import\n",
        "import pandas as pd\n",
        "from sklearn.model_selection import train_test_split\n",
        "from sklearn.linear_model import LogisticRegression\n",
        "from sklearn.ensemble import RandomForestClassifier\n",
        "from sklearn.metrics import accuracy_score, log_loss, mean_squared_error\n",
        "from sklearn.preprocessing import LabelEncoder\n",
        "\n",
        "# 2. Loading Titanic data\n",
        "url = \"https://raw.githubusercontent.com/datasciencedojo/datasets/master/titanic.csv\"\n",
        "df = pd.read_csv(url)\n",
        "\n",
        "# 3. Pre-treatment\n",
        "# Encoding categorical variables\n",
        "df['Sex'] = LabelEncoder().fit_transform(df['Sex'])\n",
        "df['Embarked'] = LabelEncoder().fit_transform(df['Embarked'])\n",
        "\n",
        "features = ['Pclass', 'Sex', 'Age', 'SibSp', 'Parch', 'Fare', 'Embarked']\n",
        "df = df[features + ['Survived']].dropna()\n",
        "\n",
        "X = df[features]\n",
        "y = df['Survived']\n",
        "\n",
        "# 4. Train/test separation\n",
        "X_train, X_val, y_train, y_val = train_test_split(X, y, test_size=0.2, random_state=42)\n",
        "\n",
        "# 5. Model training\n",
        "log_model = LogisticRegression()\n",
        "log_model.fit(X_train, y_train)\n",
        "\n",
        "rf_model = RandomForestClassifier()\n",
        "rf_model.fit(X_train, y_train)\n",
        "\n",
        "# 6. Predictions\n",
        "log_preds = log_model.predict(X_val)\n",
        "log_probas = log_model.predict_proba(X_val)[:, 1]\n",
        "\n",
        "rf_preds = rf_model.predict(X_val)\n",
        "rf_probas = rf_model.predict_proba(X_val)[:, 1]\n",
        "\n",
        "# 7. Evaluation\n",
        "print(\"=== Logistic Regression ===\")\n",
        "print(f\"Accuracy: {accuracy_score(y_val, log_preds):.4f}\")\n",
        "print(f\"Log Loss: {log_loss(y_val, log_model.predict_proba(X_val)):.4f}\")\n",
        "print(f\"MSE: {mean_squared_error(y_val, log_probas):.4f}\")\n",
        "\n",
        "print(\"\\n=== Random Forest ===\")\n",
        "print(f\"Accuracy: {accuracy_score(y_val, rf_preds):.4f}\")\n",
        "print(f\"Log Loss: {log_loss(y_val, rf_model.predict_proba(X_val)):.4f}\")\n",
        "print(f\"MSE: {mean_squared_error(y_val, rf_probas):.4f}\")\n"
      ]
    }
  ]
}